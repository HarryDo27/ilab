{
 "cells": [
  {
   "cell_type": "code",
   "execution_count": 5,
   "metadata": {},
   "outputs": [
    {
     "name": "stdout",
     "output_type": "stream",
     "text": [
      "First few filenames after extraction: ['1.3.6.1.4.1.14519.5.2.1.4334.1501.254560949327495733867144438706', '1.3.6.1.4.1.14519.5.2.1.4334.1501.431417775957188292593442155881', '1.3.6.1.4.1.14519.5.2.1.4334.1501.207443943407455870340595435813', '1.3.6.1.4.1.14519.5.2.1.4334.1501.153713896655134488487304641509', '1.3.6.1.4.1.14519.5.2.1.4334.1501.165554541812737547045545126699']\n",
      "Number of images found in ROI folder: 720\n",
      "Number of rows in filtered dataframe: 144\n",
      "Recurrence\n",
      "no     104\n",
      "yes     40\n",
      "Name: count, dtype: int64\n",
      "Training set size: 103\n",
      "Validation set size: 19\n",
      "Test set size: 22\n"
     ]
    }
   ],
   "source": [
    "import os\n",
    "import pandas as pd\n",
    "from sklearn.model_selection import train_test_split\n",
    "\n",
    "# Load the CSV with metadata (e.g., recurrence.csv)\n",
    "df = pd.read_csv(\"/Users/harrydo/Documents/UTS/Spring24/Ilab/archive-6/recurrence.csv\", low_memory=False)  # Update with your actual path\n",
    "\n",
    "# List all images in your ROI folder (assuming they are in .tiff format)\n",
    "image_dir = \"/Users/harrydo/Documents/UTS/Spring24/Ilab/archive-6/ROI\"  # Update with your actual path to the ROI folder\n",
    "image_files = [f for f in os.listdir(image_dir) if f.endswith('.tiff')]\n",
    "\n",
    "# Extract the SOPInstanceUID from image filenames (removing _1, _2, etc.)\n",
    "filtered_images = [os.path.splitext(f)[0].split('_')[0] for f in image_files]  # Strip out suffixes like _1, _2, and file extensions\n",
    "\n",
    "# Check the first few filenames after extraction\n",
    "print(f\"First few filenames after extraction: {filtered_images[:5]}\")  # Debug\n",
    "\n",
    "# Now filter the dataframe to include only rows where the SOPInstanceUID matches the base filename in the ROI folder\n",
    "df_images = df[df['SOPInstanceUID'].isin(filtered_images)]\n",
    "\n",
    "# Check if any data remains after filtering\n",
    "print(f\"Number of images found in ROI folder: {len(filtered_images)}\")\n",
    "print(f\"Number of rows in filtered dataframe: {len(df_images)}\")\n",
    "\n",
    "# If the filtered DataFrame is empty, this could indicate a mismatch between filenames and SOPInstanceUIDs\n",
    "if df_images.empty:\n",
    "    print(\"No matching images found. Please check if the image filenames and SOPInstanceUID match.\")\n",
    "else:\n",
    "    # Check the distribution of the target variable 'Recurrence'\n",
    "    print(df_images['Recurrence'].value_counts())\n",
    "\n",
    "    # Perform a stratified train-test-validation split based on 'Recurrence'\n",
    "    train_val, test = train_test_split(df_images, test_size=0.15, stratify=df_images['Recurrence'], random_state=42)\n",
    "    train, val = train_test_split(train_val, test_size=0.15, stratify=train_val['Recurrence'], random_state=42)\n",
    "\n",
    "    # Save the splits to CSV files containing image paths and corresponding labels\n",
    "    train.to_csv(\"/Users/harrydo/Documents/UTS/Spring24/Ilab/archive-6/train.csv\", index=False)  # Update with your actual path\n",
    "    val.to_csv(\"/Users/harrydo/Documents/UTS/Spring24/Ilab/archive-6/val.csv\", index=False)      # Update with your actual path\n",
    "    test.to_csv(\"/Users/harrydo/Documents/UTS/Spring24/Ilab/archive-6/test.csv\", index=False)    # Update with your actual path\n",
    "\n",
    "    print(f\"Training set size: {len(train)}\")\n",
    "    print(f\"Validation set size: {len(val)}\")\n",
    "    print(f\"Test set size: {len(test)}\")\n"
   ]
  },
  {
   "cell_type": "code",
   "execution_count": 6,
   "metadata": {},
   "outputs": [
    {
     "name": "stdout",
     "output_type": "stream",
     "text": [
      "Recurrence distribution in training set:\n",
      "Recurrence\n",
      "no     74\n",
      "yes    29\n",
      "Name: count, dtype: int64\n",
      "\n",
      "Recurrence distribution in validation set:\n",
      "Recurrence\n",
      "no     14\n",
      "yes     5\n",
      "Name: count, dtype: int64\n",
      "\n",
      "Recurrence distribution in test set:\n",
      "Recurrence\n",
      "no     16\n",
      "yes     6\n",
      "Name: count, dtype: int64\n"
     ]
    }
   ],
   "source": [
    "print(\"Recurrence distribution in training set:\")\n",
    "print(train['Recurrence'].value_counts())\n",
    "\n",
    "print(\"\\nRecurrence distribution in validation set:\")\n",
    "print(val['Recurrence'].value_counts())\n",
    "\n",
    "print(\"\\nRecurrence distribution in test set:\")\n",
    "print(test['Recurrence'].value_counts())"
   ]
  }
 ],
 "metadata": {
  "kernelspec": {
   "display_name": "base",
   "language": "python",
   "name": "python3"
  },
  "language_info": {
   "codemirror_mode": {
    "name": "ipython",
    "version": 3
   },
   "file_extension": ".py",
   "mimetype": "text/x-python",
   "name": "python",
   "nbconvert_exporter": "python",
   "pygments_lexer": "ipython3",
   "version": "3.11.4"
  },
  "orig_nbformat": 4
 },
 "nbformat": 4,
 "nbformat_minor": 2
}
